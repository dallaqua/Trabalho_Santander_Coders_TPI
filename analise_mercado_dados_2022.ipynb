{
 "cells": [
  {
   "cell_type": "markdown",
   "metadata": {},
   "source": [
    "# Área de Dados\n",
    "\n",
    "A melhoria do processamento dos computadores, o surgimento de tecnologias como computação em nuvem, machine e a possibilidade da coleta de dados de diversos equipamentos através da Internet das Coisas (_Internet of Things_, _IoT_) fez com que uma enorme quantidade de dados (_Big Data_) começasse a ser produzido. \n",
    "\n",
    "Esses dados, quando refinados, analisados e interpretados, podem trazer poderosas descobertas que melhoram as tomadas de decisão, ajudando a construir estratégias de mercado/negócios e a diminuir custos. \n",
    "\n",
    "Existem diversas possibilidades de atuação na área, como por exemplo, na coleta e limpeza dos dados, análises exploratórias desses dados, construção e implantação de modelos de aprendizado de máquina (_machine learning_), e interpretação dos resultados desses modelos. \n",
    "\n",
    "Os profissionais da área de dados podem ser divididos nas seguintes profissões:\n",
    "- Engenheiro de dados: responsável pela coleta e limpeza dos dados\n",
    "- Analista de dados: pode realizar limpeza dos dados e também é responsável pela análise exploratória desses dados\n",
    "- Engenheiro de _machine learning_: constrói e implanta os modelos\n",
    "- Cientista de dados: pode realizar qualquer uma dessas etapas\n",
    "\n",
    "Neste estudo analisaremos os dados coletados na pesquisa [State of Data Brazil](https://www.stateofdata.com.br/) do ano de 2022, que fornece um panorama sobre o mercado de trabalho na área de dados no Brasil. Essa pesquisa foi realizada pela **Data Hackers** e a **Bain & Company**, no período de 10 de outubro a 28 de novembro de 2022. O arquivo .csv com as respostas dos 4.271 participantes pode ser obtido na plataforma [Kaggle](https://www.kaggle.com/datasets/datahackers/state-of-data-2022).   "
   ]
  },
  {
   "cell_type": "markdown",
   "metadata": {},
   "source": [
    "# State of Data Brazil 2022\n",
    "\n",
    "A pesquisa é dividida em 8 partes, totalizando 352 colunas (contando com a coluna de id, identificada como P0):\n",
    "\n",
    "Parte 1 - Dados demográfico\\\n",
    "Parte 2 - Dados sobre carreira\\\n",
    "Parte 3 - Desafios dos gestores de times de dados\\\n",
    "Parte 4 - Conhecimentos na área de dados\\\n",
    "Parte 5 - Objetivos na área de dados\\\n",
    "Parte 6 - Conhecimentos em Engenharia de Dados/DE\\\n",
    "Parte 7 - Conhecimentos em Análise de Dados/DA\\\n",
    "Parte 8 - Conhecimentos em Ciências de Dados/DS\n",
    "\n",
    "Algumas perguntas podem ter respostas multi-valoradas, então ocupando mais de uma coluna no dataset. Dessa forma, cada coluna é identificada como uma tupla (Pergunta,Alternativa escolhida), e as perguntas são divididas em Parte, Letra da pergunta e Número da opção escolhida:\n",
    "\n",
    "- P3_a_1 = Parte 3, pergunta (a), opção (1)\n",
    "\n",
    "A seguir são mostradas as perguntas mais gerais para cada parte do questionário.\n"
   ]
  },
  {
   "cell_type": "code",
   "execution_count": 70,
   "metadata": {},
   "outputs": [],
   "source": [
    "import pandas as pd\n",
    "import matplotlib.pyplot as plt"
   ]
  },
  {
   "cell_type": "code",
   "execution_count": 33,
   "metadata": {},
   "outputs": [
    {
     "name": "stdout",
     "output_type": "stream",
     "text": [
      "(4271, 352)\n"
     ]
    }
   ],
   "source": [
    "df = pd.read_csv('State_of_data_2022.csv', sep = ',')\n",
    "df.drop(\"('P0', 'id')\", axis = 1, inplace=True)\n",
    "print(df.shape)"
   ]
  },
  {
   "cell_type": "code",
   "execution_count": 7,
   "metadata": {},
   "outputs": [],
   "source": [
    "# Separando por partes\n",
    "df_parte_1 = df.filter(like = 'P1', axis = 1)\n",
    "df_parte_2 = df.filter(like = 'P2', axis = 1)\n",
    "df_parte_3 = df.filter(like = 'P3', axis = 1)\n",
    "df_parte_4 = df.filter(like = 'P4', axis = 1)\n",
    "df_parte_5 = df.filter(like = 'P5', axis = 1)\n",
    "df_parte_6 = df.filter(like = 'P6', axis = 1)\n",
    "df_parte_7 = df.filter(like = 'P7', axis = 1)\n",
    "df_parte_8 = df.filter(like = 'P8', axis = 1)"
   ]
  },
  {
   "cell_type": "code",
   "execution_count": 38,
   "metadata": {},
   "outputs": [],
   "source": [
    "def get_perguntas(df_parte: pd.DataFrame,parte:int) -> None:\n",
    "    columns   = list(df_parte.columns)\n",
    "    print(f'Parte {parte} - Total de colunas: {len(columns)}')\n",
    "    count = 0\n",
    "    for c in columns:\n",
    "        aux            = c.split('(')[1].split(')')[0]\n",
    "        identificador1 = aux.split(',')[0]\n",
    "        if len(identificador1.split('_')) <= 2:\n",
    "            print(aux)\n",
    "            count += 1\n",
    "    print(f'Total de perguntas gerais: {count}')        "
   ]
  },
  {
   "cell_type": "code",
   "execution_count": 39,
   "metadata": {
    "colab": {
     "base_uri": "https://localhost:8080/",
     "height": 1000
    },
    "id": "aBvdoYUuJ_aP",
    "outputId": "2efe0d05-7f8a-40b3-cc9e-f75924b2e2b1"
   },
   "outputs": [
    {
     "name": "stdout",
     "output_type": "stream",
     "text": [
      "Parte 1 - Total de colunas: 15\n",
      "'P1_a ', 'Idade'\n",
      "'P1_b ', 'Genero'\n",
      "'P1_c ', 'Cor/raca/etnia'\n",
      "'P1_d ', 'PCD'\n",
      "'P1_e ', 'experiencia_profissional_prejudicada'\n",
      "'P1_f ', 'aspectos_prejudicados'\n",
      "'P1_g ', 'vive_no_brasil'\n",
      "'P1_i ', 'Estado onde mora'\n",
      "'P1_j ', 'Mudou de Estado?'\n",
      "'P1_k ', 'Regiao de origem'\n",
      "'P1_l ', 'Nivel de Ensino'\n",
      "'P1_m ', 'Área de Formação'\n",
      "Total de perguntas gerais: 12\n"
     ]
    }
   ],
   "source": [
    "get_perguntas(df_parte_1,1)"
   ]
  },
  {
   "cell_type": "code",
   "execution_count": 40,
   "metadata": {},
   "outputs": [
    {
     "name": "stdout",
     "output_type": "stream",
     "text": [
      "Parte 2 - Total de colunas: 36\n",
      "'P2_a ', 'Qual sua situação atual de trabalho?'\n",
      "'P2_b ', 'Setor'\n",
      "'P2_c ', 'Numero de Funcionarios'\n",
      "'P2_d ', 'Gestor?'\n",
      "'P2_e ', 'Cargo como Gestor'\n",
      "'P2_f ', 'Cargo Atual'\n",
      "'P2_g ', 'Nivel'\n",
      "'P2_h ', 'Faixa salarial'\n",
      "'P2_i ', 'Quanto tempo de experiência na área de dados você tem?'\n",
      "'P2_j ', 'Quanto tempo de experiência na área de TI/Engenharia de Software você teve antes de começar a trabalhar na área de dados?'\n",
      "'P2_k ', 'Você está satisfeito na sua empresa atual?'\n",
      "'P2_l ', 'Qual o principal motivo da sua insatisfação com a empresa atual?'\n",
      "'P2_m ', 'Você participou de entrevistas de emprego nos últimos 6 meses?'\n",
      "'P2_n ', 'Você pretende mudar de emprego nos próximos 6 meses?'\n",
      "'P2_o ', 'Quais os principais critérios que você leva em consideração no momento de decidir onde trabalhar?'\n",
      "'P2_p ', 'Atualmente qual a sua forma de trabalho?'\n",
      "'P2_q ', 'Qual a forma de trabalho ideal para você?'\n",
      "'P2_r ', 'Caso sua empresa decida pelo modelo 100% presencial qual será sua atitude?'\n",
      "'P2_s ', 'Sua empresa passu por Layoff em 2022?'\n",
      "Total de perguntas gerais: 19\n"
     ]
    }
   ],
   "source": [
    "get_perguntas(df_parte_2,2)"
   ]
  },
  {
   "cell_type": "code",
   "execution_count": 41,
   "metadata": {
    "id": "6jEguUk6K1-U"
   },
   "outputs": [
    {
     "name": "stdout",
     "output_type": "stream",
     "text": [
      "Parte 3 - Total de colunas: 38\n",
      "'P3_a ', 'Qual o número aproximado de pessoas que atuam com dados na sua empresa hoje?'\n",
      "'P3_b ', 'Quais desses papéis/cargos fazem parte do time \n",
      "'P3_c ', 'Quais dessas responsabilidades fazem parte da sua rotina atual de trabalho como gestor?'\n",
      "'P3_d ', 'Quais são os 3 maiores desafios que você tem como gestor no atual momento?'\n",
      "Total de perguntas gerais: 4\n"
     ]
    }
   ],
   "source": [
    "get_perguntas(df_parte_3,3)"
   ]
  },
  {
   "cell_type": "code",
   "execution_count": 42,
   "metadata": {},
   "outputs": [
    {
     "name": "stdout",
     "output_type": "stream",
     "text": [
      "Parte 4 - Total de colunas: 100\n",
      "'P4_a ', 'Mesmo que esse não seja seu cargo formal, você considera que sua atuação no dia a dia, reflete alguma das opções listadas abaixo?'\n",
      "'P4_b ', 'Quais das fontes de dados listadas você já analisou ou processou no trabalho?'\n",
      "'P4_c ', 'Entre as fontes de dados listadas, quais você utiliza na maior parte do tempo?'\n",
      "'P4_d ', 'Quais das linguagens listadas abaixo você utiliza no trabalho?'\n",
      "'P4_e ', 'Entre as linguagens listadas abaixo, qual é a que você mais utiliza no trabalho?'\n",
      "'P4_f ', 'Entre as linguagens listadas abaixo, qual é a sua preferida?'\n",
      "'P4_g ', 'Quais dos bancos de dados/fontes de dados listados abaixo você utiliza no trabalho?'\n",
      "'P4_g ', 'Quais das opções de Cloud listadas abaixo você utiliza no trabalho?'\n",
      "'P4_h ', 'Dentre as opções listadas, qual sua Cloud preferida?'\n",
      "'P4_i ', 'Microsoft PowerBI'\n",
      "Total de perguntas gerais: 10\n"
     ]
    }
   ],
   "source": [
    "get_perguntas(df_parte_4,4)"
   ]
  },
  {
   "cell_type": "code",
   "execution_count": 43,
   "metadata": {},
   "outputs": [
    {
     "name": "stdout",
     "output_type": "stream",
     "text": [
      "Parte 5 - Total de colunas: 4\n",
      "'P5_a ', 'Qual seu objetivo na área de dados?'\n",
      "'P5_b ', 'Qual oportunidade você está buscando?'\n",
      "'P5_c ', 'Há quanto tempo você busca uma oportunidade na área de dados?'\n",
      "'P5_d ', 'Como tem sido a busca por um emprego na área de dados?'\n",
      "Total de perguntas gerais: 4\n"
     ]
    }
   ],
   "source": [
    "get_perguntas(df_parte_5,5)"
   ]
  },
  {
   "cell_type": "code",
   "execution_count": 44,
   "metadata": {},
   "outputs": [
    {
     "name": "stdout",
     "output_type": "stream",
     "text": [
      "Parte 6 - Total de colunas: 59\n",
      "'P6_a ', 'Quais das opções abaixo fazem parte da sua rotina no trabalho atual como engenheiro de dados?'\n",
      "'P6_b ', 'Quais as ferramentas/tecnologias de ETL que você utiliza no trabalho como Data Engineer?'\n",
      "'P6_c ', 'Sua organização possui um Data Lake?'\n",
      "'P6_d ', 'Qual tecnologia utilizada como plataforma do Data Lake?'\n",
      "'P6_e ', 'Sua organização possui um Data Warehouse?'\n",
      "'P6_f ', 'Qual tecnologia utilizada como plataforma do Data Warehouse?'\n",
      "'P6_g ', 'Quais as ferramentas de gestão de Qualidade de dados, Metadados e catálogo de dados você utiliza no trabalho?'\n",
      "'P6_h ', 'Em qual das opções abaixo você gasta a maior parte do seu tempo?'\n",
      "Total de perguntas gerais: 8\n"
     ]
    }
   ],
   "source": [
    "get_perguntas(df_parte_6,6)"
   ]
  },
  {
   "cell_type": "code",
   "execution_count": 45,
   "metadata": {},
   "outputs": [
    {
     "name": "stdout",
     "output_type": "stream",
     "text": [
      "Parte 7 - Total de colunas: 50\n",
      "'P7_1 ', 'Quais das opções abaixo fazem parte da sua rotina no trabalho atual com análise de dados?'\n",
      "'P7_b ', 'Quais as ferramentas/tecnologias de ETL que você utiliza no trabalho como Data Analyst?'\n",
      "'P7_c ', 'Sua empresa utiliza alguma das ferramentas listadas para dar mais autonomia em análise de dados para as áreas de negócio?'\n",
      "'P7_d ', 'Em qual das opções abaixo você gasta a maior parte do seu tempo de trabalho?'\n",
      "Total de perguntas gerais: 4\n"
     ]
    }
   ],
   "source": [
    "get_perguntas(df_parte_7,7)"
   ]
  },
  {
   "cell_type": "code",
   "execution_count": 46,
   "metadata": {},
   "outputs": [
    {
     "name": "stdout",
     "output_type": "stream",
     "text": [
      "Parte 8 - Total de colunas: 50\n",
      "'P8_a ', 'Quais das opções abaixo fazem parte da sua rotina no trabalho atual com ciência de dados?'\n",
      "'P8_b ', 'Quais as técnicas e métodos listados abaixo você costuma utilizar no trabalho?'\n",
      "'P8_3 ', 'Quais dessas tecnologias fazem parte do seu dia a dia como cientista de dados?'\n",
      "'P8_d ', 'Em qual das opções abaixo você gasta a maior parte do seu tempo no trabalho?'\n",
      "Total de perguntas gerais: 4\n"
     ]
    }
   ],
   "source": [
    "get_perguntas(df_parte_8,8)"
   ]
  },
  {
   "cell_type": "markdown",
   "metadata": {},
   "source": [
    "# Profissionais por Estado do Brasil\n",
    "\n",
    "Primeiro é verificado que 100 profissionais que responderam o questionário não vivem no Brasil. Depois, que 15 profissionais não responderam (ou suas respostas foram retiradas a fim de garantir o anonimato, como é comentado na documentação do dataset) em qual estado moram.\n",
    "\n",
    "Para conseguir o número de profissionais por estado do Brasil, é realizada uma operação de groupby pela coluna _('P1_i ', 'Estado onde mora')_ e depois é criado o gráfico de barras horizontais, apresentado abaixo. \n"
   ]
  },
  {
   "cell_type": "code",
   "execution_count": 85,
   "metadata": {},
   "outputs": [
    {
     "name": "stdout",
     "output_type": "stream",
     "text": [
      "Número de profissionais que não moram no Brasil: 100\n",
      "Número de profissionais que não tem Estado: 15\n"
     ]
    }
   ],
   "source": [
    "num_profissionais_nao_moram_brasil = df_parte_1[df_parte_1[\"('P1_g ', 'vive_no_brasil')\"]==False].shape[0] \n",
    "mascara_sem_estado                 = (df_parte_1[\"('P1_i ', 'Estado onde mora')\"].isnull()) & (df_parte_1[\"('P1_g ', 'vive_no_brasil')\"]==True)\n",
    "num_profissionais_nao_responderam  = df_parte_1[mascara].shape[0] \n",
    "\n",
    "print(f'Número de profissionais que não moram no Brasil: {num_profissionais_nao_moram_brasil}')\n",
    "print(f'Número de profissionais que não tem Estado: {num_profissionais_nao_responderam}')"
   ]
  },
  {
   "cell_type": "code",
   "execution_count": 78,
   "metadata": {},
   "outputs": [
    {
     "data": {
      "text/plain": [
       "Text(0.5, 1.0, 'Profissionais por Estado do Brasil')"
      ]
     },
     "execution_count": 78,
     "metadata": {},
     "output_type": "execute_result"
    },
    {
     "data": {
      "image/png": "[encoded data removed]",
      "text/plain": [
       "<Figure size 640x480 with 1 Axes>"
      ]
     },
     "metadata": {},
     "output_type": "display_data"
    }
   ],
   "source": [
    "df_profissionais_por_estado = df_parte_1.groupby(\"('P1_i ', 'Estado onde mora')\")[\"('P1_i ', 'Estado onde mora')\"].count().sort_values()\n",
    "indexes_prof_por_estado     = df_profissionais_por_estado.index\n",
    "values_prof_por_estado      = df_profissionais_por_estado.values  \n",
    "\n",
    "plt.barh(indexes_prof_por_estado, values_prof_por_estado)\n",
    "plt.title('Profissionais por Estado do Brasil')"
   ]
  },
  {
   "cell_type": "markdown",
   "metadata": {},
   "source": [
    "O Estado de São Paulo possui a grande maioria de profissionais e outros dois Estados do Sudeste, Minas Gerais e Rio de Janeiro, ficam com o 2º e 3º lugares. Os Estados do Acre, Amapá, Roraima, Tocantins (Norte) e Mato Grosso (Centro-Oeste) não tiveram profissionais. \n",
    "\n",
    "Porém, contando o número de profissionais na região Norte, percebe-se que esse número é maior que a soma dos profissionais do Amazonas e do Pará. Ao filtrar quais profissionais são da região Norte mas não possuem resposta em Estado, obtemos a quantidade de 15, que é exatamente a quantidade que encontramos anteriormente de profissionais que não tem Estado. "
   ]
  },
  {
   "cell_type": "code",
   "execution_count": 92,
   "metadata": {},
   "outputs": [
    {
     "data": {
      "text/plain": [
       "Text(0.5, 1.0, 'Profissionais por Região do Brasil')"
      ]
     },
     "execution_count": 92,
     "metadata": {},
     "output_type": "execute_result"
    },
    {
     "data": {
      "image/png": "[encoded data removed]",
      "text/plain": [
       "<Figure size 640x480 with 1 Axes>"
      ]
     },
     "metadata": {},
     "output_type": "display_data"
    }
   ],
   "source": [
    "df_profissionais_regiao    = df_parte_1.groupby(\"('P1_i_2 ', 'Regiao onde mora')\")[\"('P1_i_2 ', 'Regiao onde mora')\"].count().sort_values()\n",
    "indexes_prof_por_regiao    = df_profissionais_regiao.index\n",
    "values_prof_por_regiao     = df_profissionais_regiao.values  \n",
    "\n",
    "plt.barh(indexes_prof_por_regiao, values_prof_por_regiao)\n",
    "plt.title('Profissionais por Região do Brasil')"
   ]
  },
  {
   "cell_type": "code",
   "execution_count": 91,
   "metadata": {},
   "outputs": [
    {
     "name": "stdout",
     "output_type": "stream",
     "text": [
      "Número de profissionais no Norte: 76\n",
      "Número de profissionais no Amazonas: 26\n",
      "Número de profissionais no Pará: 35\n",
      "Número de profissionais no Norte mas sem Estado: 15\n"
     ]
    }
   ],
   "source": [
    "\n",
    "\n",
    "num_prof_AM                = df_profissionais_por_estado['Amazonas (AM)']\n",
    "num_prof_PA                = df_profissionais_por_estado['Pará (PA)']\n",
    "mascara_prof_norte_sem_est = (df_parte_1[\"('P1_i_2 ', 'Regiao onde mora')\"] == 'Norte') & (df_parte_1[\"('P1_i ', 'Estado onde mora')\"].isnull())\n",
    "num_prof_norte_sem_estado  = df_parte_1[mascara_prof_norte_sem_est].shape[0]\n",
    "\n",
    "print(f'Número de profissionais no Norte: {df_profissionais_regiao[\"Norte\"]}')\n",
    "print(f'Número de profissionais no Amazonas: {num_prof_AM}')\n",
    "print(f'Número de profissionais no Pará: {num_prof_PA}')\n",
    "print(f'Número de profissionais no Norte mas sem Estado: {num_prof_norte_sem_estado}')\n",
    "\n"
   ]
  },
  {
   "cell_type": "code",
   "execution_count": null,
   "metadata": {
    "id": "axywF4kQM0_8"
   },
   "outputs": [],
   "source": [
    "colunas = []\n",
    "for elemento in lista_colunas:\n",
    "  if 'P2' in elemento:\n",
    "    colunas.append(elemento)"
   ]
  },
  {
   "cell_type": "code",
   "execution_count": null,
   "metadata": {
    "id": "dyINsK9bOM9H"
   },
   "outputs": [],
   "source": [
    "dados[colunas]"
   ]
  },
  {
   "cell_type": "markdown",
   "metadata": {
    "id": "LLAr6C2yQW-v"
   },
   "source": [
    "Perguntas possíveis:\n",
    "\n",
    "Dados Gerais\n",
    "- idade\n",
    "- gênero\n",
    "- ensino / formação acadêmica\n",
    "\n",
    "Carreira\n",
    "- modo de trabalho (remoto, presencial, híbrido)\n",
    "\n",
    "Satisfação (opcional)\n",
    "- satisfação / insatisfação\n",
    "- motivos da insatisfação (gráfico comparativo barras)\n",
    "\n",
    "Densidade geográfica\n",
    "- Densidade de profissionais por estado\n",
    "- Densidade de profissionais por gênero\n",
    "- Densidade de profissionais por raça\n",
    "- Densidade de profissionais pcd\n",
    "\n",
    "Salário\n",
    "- geral\n",
    "- por cargo\n",
    "- por tempo de carreira\n",
    "- por gênero\n",
    "- pcd\n",
    "- por raça\n",
    "\n",
    "Fontes de dados utilizados no trabalho\n",
    "\n",
    "Tecnologias utilizadas\n",
    "- linguagens no geral\n",
    "- 'Entre as linguagens listadas abaixo, qual é a que você mais utiliza no trabalho?' -> P4_e\n",
    "- P4_g -> opções de cloud\n",
    "- na área de ciência, engenharia e analista (tecnologias por nicho)\n",
    "\n",
    "- procurar insights com a parte de ciência de dados - P8\n",
    "\n",
    "\n",
    "obs: sobre os NaN, considerar apenas as pessoas que responderam"
   ]
  },
  {
   "cell_type": "markdown",
   "metadata": {
    "id": "vlDvBN_lZzqV"
   },
   "source": [
    "# Explicação do DataSet"
   ]
  },
  {
   "cell_type": "markdown",
   "metadata": {
    "id": "ZN1bDCjVZ5dg"
   },
   "source": [
    "~ explicação do kaggle"
   ]
  },
  {
   "cell_type": "code",
   "execution_count": null,
   "metadata": {
    "id": "RR_hTR-ZZ4mS"
   },
   "outputs": [],
   "source": []
  }
 ],
 "metadata": {
  "colab": {
   "collapsed_sections": [
    "2MkjaPJSZwgb"
   ],
   "provenance": []
  },
  "kernelspec": {
   "display_name": "Python 3 (ipykernel)",
   "language": "python",
   "name": "python3"
  },
  "language_info": {
   "codemirror_mode": {
    "name": "ipython",
    "version": 3
   },
   "file_extension": ".py",
   "mimetype": "text/x-python",
   "name": "python",
   "nbconvert_exporter": "python",
   "pygments_lexer": "ipython3",
   "version": "3.11.4"
  }
 },
 "nbformat": 4,
 "nbformat_minor": 1
}
