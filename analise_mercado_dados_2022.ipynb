{
  "cells": [
    {
      "attachments": {},
      "cell_type": "markdown",
      "metadata": {
        "id": "2MkjaPJSZwgb"
      },
      "source": [
        "# Dados Brutos"
      ]
    },
    {
      "cell_type": "code",
      "execution_count": 91,
      "metadata": {
        "id": "uNb44G88JeCG"
      },
      "outputs": [
        {
          "ename": "ModuleNotFoundError",
          "evalue": "No module named 'seaborn'",
          "output_type": "error",
          "traceback": [
            "\u001b[1;31m---------------------------------------------------------------------------\u001b[0m",
            "\u001b[1;31mModuleNotFoundError\u001b[0m                       Traceback (most recent call last)",
            "\u001b[1;32mc:\\Users\\logonrmlocal\\Downloads\\Trabalho_Santander_Coders_TPI-main\\analise_mercado_dados_2022.ipynb Cell 2\u001b[0m in \u001b[0;36m<cell line: 3>\u001b[1;34m()\u001b[0m\n\u001b[0;32m      <a href='vscode-notebook-cell:/c%3A/Users/logonrmlocal/Downloads/Trabalho_Santander_Coders_TPI-main/analise_mercado_dados_2022.ipynb#W1sZmlsZQ%3D%3D?line=0'>1</a>\u001b[0m \u001b[39mimport\u001b[39;00m \u001b[39mpandas\u001b[39;00m \u001b[39mas\u001b[39;00m \u001b[39mpd\u001b[39;00m\n\u001b[0;32m      <a href='vscode-notebook-cell:/c%3A/Users/logonrmlocal/Downloads/Trabalho_Santander_Coders_TPI-main/analise_mercado_dados_2022.ipynb#W1sZmlsZQ%3D%3D?line=1'>2</a>\u001b[0m \u001b[39mimport\u001b[39;00m \u001b[39mre\u001b[39;00m\n\u001b[1;32m----> <a href='vscode-notebook-cell:/c%3A/Users/logonrmlocal/Downloads/Trabalho_Santander_Coders_TPI-main/analise_mercado_dados_2022.ipynb#W1sZmlsZQ%3D%3D?line=2'>3</a>\u001b[0m \u001b[39mimport\u001b[39;00m \u001b[39mseaborn\u001b[39;00m \u001b[39mas\u001b[39;00m \u001b[39msns\u001b[39;00m\n",
            "\u001b[1;31mModuleNotFoundError\u001b[0m: No module named 'seaborn'"
          ]
        }
      ],
      "source": [
        "import pandas as pd\n",
        "import re\n",
        "import seaborn as sns\n"
      ]
    },
    {
      "cell_type": "code",
      "execution_count": 75,
      "metadata": {
        "id": "SN81OsPBOzrM"
      },
      "outputs": [],
      "source": [
        "pd.set_option('display.max_columns', None)\n",
        "\n",
        "def extract_text_between_quotes(string):\n",
        "    pattern = r\"'(.*?)'\"\n",
        "    matches = re.findall(pattern, string)\n",
        "    return matches"
      ]
    },
    {
      "cell_type": "code",
      "execution_count": 2,
      "metadata": {
        "id": "h5fP9x5gJ8N0"
      },
      "outputs": [],
      "source": [
        "dados = pd.read_csv('State_of_data_2022.csv')"
      ]
    },
    {
      "cell_type": "code",
      "execution_count": 3,
      "metadata": {
        "colab": {
          "base_uri": "https://localhost:8080/",
          "height": 814
        },
        "id": "aBvdoYUuJ_aP",
        "outputId": "e93f2635-0d81-4c25-a704-9d18fa205a10"
      },
      "outputs": [
        {
          "data": {
            "text/html": [
              "<div>\n",
              "<style scoped>\n",
              "    .dataframe tbody tr th:only-of-type {\n",
              "        vertical-align: middle;\n",
              "    }\n",
              "\n",
              "    .dataframe tbody tr th {\n",
              "        vertical-align: top;\n",
              "    }\n",
              "\n",
              "    .dataframe thead th {\n",
              "        text-align: right;\n",
              "    }\n",
              "</style>\n",
              "<table border=\"1\" class=\"dataframe\">\n",
              "  <thead>\n",
              "    <tr style=\"text-align: right;\">\n",
              "      <th></th>\n",
              "      <th>('P0', 'id')</th>\n",
              "      <th>('P1_a ', 'Idade')</th>\n",
              "      <th>('P1_a_1 ', 'Faixa idade')</th>\n",
              "      <th>('P1_b ', 'Genero')</th>\n",
              "      <th>('P1_c ', 'Cor/raca/etnia')</th>\n",
              "      <th>('P1_d ', 'PCD')</th>\n",
              "      <th>('P1_e ', 'experiencia_profissional_prejudicada')</th>\n",
              "      <th>('P1_f ', 'aspectos_prejudicados')</th>\n",
              "      <th>('P1_g ', 'vive_no_brasil')</th>\n",
              "      <th>('P1_i ', 'Estado onde mora')</th>\n",
              "      <th>...</th>\n",
              "      <th>('P8_d_2 ', 'Coletando e limpando os dados que uso para análise e modelagem.')</th>\n",
              "      <th>('P8_d_3 ', 'Entrando em contato com os times de negócio para definição do problema, identificar a solução e apresentação de resultados.')</th>\n",
              "      <th>('P8_d_4 ', 'Desenvolvendo modelos de Machine Learning com o objetivo de colocar em produção em sistemas (produtos de dados).')</th>\n",
              "      <th>('P8_d_5 ', 'Colocando modelos em produção, criando os pipelines de dados, APIs de consumo e monitoramento.')</th>\n",
              "      <th>('P8_d_6 ', 'Cuidando da manutenção de modelos de Machine Learning já em produção, atuando no monitoramento, ajustes e refatoração quando necessário.')</th>\n",
              "      <th>('P8_d_7 ', 'Realizando construções de dashboards em ferramentas de BI como PowerBI, Tableau, Looker, Qlik, etc.')</th>\n",
              "      <th>('P8_d_8 ', 'Utilizando ferramentas avançadas de estatística como SAS, SPSS, Stata etc, para realizar análises.')</th>\n",
              "      <th>('P8_d_9 ', 'Criando e dando manutenção em ETLs, DAGs e automações de pipelines de dados.')</th>\n",
              "      <th>('P8_d_10 ', 'Criando e gerenciando soluções de Feature Store e cultura de MLOps.')</th>\n",
              "      <th>('P8_d_11 ', 'Criando e mantendo a infra que meus modelos e soluções rodam (clusters, servidores, API, containers, etc.)')</th>\n",
              "    </tr>\n",
              "  </thead>\n",
              "  <tbody>\n",
              "    <tr>\n",
              "      <th>0</th>\n",
              "      <td>zzqzz3l9ily8nuo2m7wyzzqzz3w48o96</td>\n",
              "      <td>39.0</td>\n",
              "      <td>35-39</td>\n",
              "      <td>Masculino</td>\n",
              "      <td>Parda</td>\n",
              "      <td>Não</td>\n",
              "      <td>Não acredito que minha experiência profissiona...</td>\n",
              "      <td>NaN</td>\n",
              "      <td>True</td>\n",
              "      <td>Distrito Federal (DF)</td>\n",
              "      <td>...</td>\n",
              "      <td>NaN</td>\n",
              "      <td>NaN</td>\n",
              "      <td>NaN</td>\n",
              "      <td>NaN</td>\n",
              "      <td>NaN</td>\n",
              "      <td>NaN</td>\n",
              "      <td>NaN</td>\n",
              "      <td>NaN</td>\n",
              "      <td>NaN</td>\n",
              "      <td>NaN</td>\n",
              "    </tr>\n",
              "    <tr>\n",
              "      <th>1</th>\n",
              "      <td>zzls2oftfn9law393oezzls2ofhvfpzd</td>\n",
              "      <td>32.0</td>\n",
              "      <td>30-34</td>\n",
              "      <td>Masculino</td>\n",
              "      <td>Parda</td>\n",
              "      <td>Não</td>\n",
              "      <td>Sim, acredito que a minha a experiência profis...</td>\n",
              "      <td>Aprovação em processos seletivos/entrevistas</td>\n",
              "      <td>True</td>\n",
              "      <td>Pará (PA)</td>\n",
              "      <td>...</td>\n",
              "      <td>NaN</td>\n",
              "      <td>NaN</td>\n",
              "      <td>NaN</td>\n",
              "      <td>NaN</td>\n",
              "      <td>NaN</td>\n",
              "      <td>NaN</td>\n",
              "      <td>NaN</td>\n",
              "      <td>NaN</td>\n",
              "      <td>NaN</td>\n",
              "      <td>NaN</td>\n",
              "    </tr>\n",
              "    <tr>\n",
              "      <th>2</th>\n",
              "      <td>zzdwqzfqqp1ypc7ps6m0hzzdwqz292yi</td>\n",
              "      <td>53.0</td>\n",
              "      <td>50-54</td>\n",
              "      <td>Masculino</td>\n",
              "      <td>Branca</td>\n",
              "      <td>Não</td>\n",
              "      <td>NaN</td>\n",
              "      <td>NaN</td>\n",
              "      <td>True</td>\n",
              "      <td>Distrito Federal (DF)</td>\n",
              "      <td>...</td>\n",
              "      <td>0.0</td>\n",
              "      <td>1.0</td>\n",
              "      <td>0.0</td>\n",
              "      <td>0.0</td>\n",
              "      <td>0.0</td>\n",
              "      <td>0.0</td>\n",
              "      <td>0.0</td>\n",
              "      <td>0.0</td>\n",
              "      <td>0.0</td>\n",
              "      <td>0.0</td>\n",
              "    </tr>\n",
              "  </tbody>\n",
              "</table>\n",
              "<p>3 rows × 353 columns</p>\n",
              "</div>"
            ],
            "text/plain": [
              "                       ('P0', 'id')  ('P1_a ', 'Idade')  \\\n",
              "0  zzqzz3l9ily8nuo2m7wyzzqzz3w48o96                39.0   \n",
              "1  zzls2oftfn9law393oezzls2ofhvfpzd                32.0   \n",
              "2  zzdwqzfqqp1ypc7ps6m0hzzdwqz292yi                53.0   \n",
              "\n",
              "  ('P1_a_1 ', 'Faixa idade') ('P1_b ', 'Genero') ('P1_c ', 'Cor/raca/etnia')  \\\n",
              "0                      35-39           Masculino                       Parda   \n",
              "1                      30-34           Masculino                       Parda   \n",
              "2                      50-54           Masculino                      Branca   \n",
              "\n",
              "  ('P1_d ', 'PCD')  ('P1_e ', 'experiencia_profissional_prejudicada')  \\\n",
              "0              Não  Não acredito que minha experiência profissiona...   \n",
              "1              Não  Sim, acredito que a minha a experiência profis...   \n",
              "2              Não                                                NaN   \n",
              "\n",
              "             ('P1_f ', 'aspectos_prejudicados')  ('P1_g ', 'vive_no_brasil')  \\\n",
              "0                                           NaN                         True   \n",
              "1  Aprovação em processos seletivos/entrevistas                         True   \n",
              "2                                           NaN                         True   \n",
              "\n",
              "  ('P1_i ', 'Estado onde mora')  ...  \\\n",
              "0         Distrito Federal (DF)  ...   \n",
              "1                     Pará (PA)  ...   \n",
              "2         Distrito Federal (DF)  ...   \n",
              "\n",
              "  ('P8_d_2 ', 'Coletando e limpando os dados que uso para análise e modelagem.')  \\\n",
              "0                                                NaN                               \n",
              "1                                                NaN                               \n",
              "2                                                0.0                               \n",
              "\n",
              "  ('P8_d_3 ', 'Entrando em contato com os times de negócio para definição do problema, identificar a solução e apresentação de resultados.')  \\\n",
              "0                                                NaN                                                                                           \n",
              "1                                                NaN                                                                                           \n",
              "2                                                1.0                                                                                           \n",
              "\n",
              "  ('P8_d_4 ', 'Desenvolvendo modelos de Machine Learning com o objetivo de colocar em produção em sistemas (produtos de dados).')  \\\n",
              "0                                                NaN                                                                                \n",
              "1                                                NaN                                                                                \n",
              "2                                                0.0                                                                                \n",
              "\n",
              "  ('P8_d_5 ', 'Colocando modelos em produção, criando os pipelines de dados, APIs de consumo e monitoramento.')  \\\n",
              "0                                                NaN                                                              \n",
              "1                                                NaN                                                              \n",
              "2                                                0.0                                                              \n",
              "\n",
              "  ('P8_d_6 ', 'Cuidando da manutenção de modelos de Machine Learning já em produção, atuando no monitoramento, ajustes e refatoração quando necessário.')  \\\n",
              "0                                                NaN                                                                                                        \n",
              "1                                                NaN                                                                                                        \n",
              "2                                                0.0                                                                                                        \n",
              "\n",
              "  ('P8_d_7 ', 'Realizando construções de dashboards em ferramentas de BI como PowerBI, Tableau, Looker, Qlik, etc.')  \\\n",
              "0                                                NaN                                                                   \n",
              "1                                                NaN                                                                   \n",
              "2                                                0.0                                                                   \n",
              "\n",
              "  ('P8_d_8 ', 'Utilizando ferramentas avançadas de estatística como SAS, SPSS, Stata etc, para realizar análises.')  \\\n",
              "0                                                NaN                                                                  \n",
              "1                                                NaN                                                                  \n",
              "2                                                0.0                                                                  \n",
              "\n",
              "  ('P8_d_9 ', 'Criando e dando manutenção em ETLs, DAGs e automações de pipelines de dados.')  \\\n",
              "0                                                NaN                                            \n",
              "1                                                NaN                                            \n",
              "2                                                0.0                                            \n",
              "\n",
              "  ('P8_d_10 ', 'Criando e gerenciando soluções de Feature Store e cultura de MLOps.')  \\\n",
              "0                                                NaN                                    \n",
              "1                                                NaN                                    \n",
              "2                                                0.0                                    \n",
              "\n",
              "  ('P8_d_11 ', 'Criando e mantendo a infra que meus modelos e soluções rodam (clusters, servidores, API, containers, etc.)')  \n",
              "0                                                NaN                                                                          \n",
              "1                                                NaN                                                                          \n",
              "2                                                0.0                                                                          \n",
              "\n",
              "[3 rows x 353 columns]"
            ]
          },
          "execution_count": 3,
          "metadata": {},
          "output_type": "execute_result"
        }
      ],
      "source": [
        "dados.head(3)"
      ]
    },
    {
      "attachments": {},
      "cell_type": "markdown",
      "metadata": {
        "id": "LLAr6C2yQW-v"
      },
      "source": [
        "Perguntas possíveis:\n",
        "\n",
        "Dados Gerais\n",
        "- idade\n",
        "- gênero\n",
        "- ensino / formação acadêmica\n",
        "\n",
        "Carreira\n",
        "- modo de trabalho (remoto, presencial, híbrido)\n",
        "\n",
        "Satisfação (opcional)\n",
        "- satisfação / insatisfação\n",
        "- motivos da insatisfação (gráfico comparativo barras)\n",
        "\n",
        "Densidade geográfica\n",
        "- Densidade de profissionais por estado\n",
        "- Densidade de profissionais por gênero\n",
        "- Densidade de profissionais por raça\n",
        "- Densidade de profissionais pcd\n",
        "\n",
        "Salário\n",
        "- geral\n",
        "- por cargo\n",
        "- por tempo de carreira\n",
        "- por gênero\n",
        "- pcd\n",
        "- por raça\n",
        "\n",
        "Fontes de dados utilizados no trabalho\n",
        "\n",
        "Tecnologias utilizadas\n",
        "- linguagens no geral\n",
        "- 'Entre as linguagens listadas abaixo, qual é a que você mais utiliza no trabalho?' -> P4_e\n",
        "- P4_g -> opções de cloud\n",
        "- na área de ciência, engenharia e analista (tecnologias por nicho)\n",
        "\n",
        "- procurar insights com a parte de ciência de dados - P8\n",
        "\n",
        "\n",
        "obs: sobre os NaN, considerar apenas as pessoas que responderam"
      ]
    },
    {
      "attachments": {},
      "cell_type": "markdown",
      "metadata": {
        "id": "vlDvBN_lZzqV"
      },
      "source": [
        "# Explicação do DataSet"
      ]
    },
    {
      "attachments": {},
      "cell_type": "markdown",
      "metadata": {
        "id": "ZN1bDCjVZ5dg"
      },
      "source": [
        "~ explicação do kaggle"
      ]
    },
    {
      "attachments": {},
      "cell_type": "markdown",
      "metadata": {
        "id": "8u1gv2b1ddfX"
      },
      "source": [
        "# Filtrando dados"
      ]
    },
    {
      "cell_type": "code",
      "execution_count": 4,
      "metadata": {
        "id": "RR_hTR-ZZ4mS"
      },
      "outputs": [],
      "source": [
        "# Removendo o ID\n",
        "dados = dados.drop(\"('P0', 'id')\", axis = 1)"
      ]
    },
    {
      "cell_type": "code",
      "execution_count": 5,
      "metadata": {
        "id": "jC3aqq85dxdz"
      },
      "outputs": [],
      "source": [
        "# Separando por partes\n",
        "parte_1 = dados.filter(like = 'P1', axis = 1)\n",
        "parte_2 = dados.filter(like = 'P2', axis = 1)\n",
        "parte_3 = dados.filter(like = 'P3', axis = 1)\n",
        "parte_4 = dados.filter(like = 'P4', axis = 1)\n",
        "parte_5 = dados.filter(like = 'P5', axis = 1)\n",
        "parte_6 = dados.filter(like = 'P6', axis = 1)\n",
        "parte_7 = dados.filter(like = 'P7', axis = 1)\n",
        "parte_8 = dados.filter(like = 'P8', axis = 1)"
      ]
    },
    {
      "cell_type": "code",
      "execution_count": null,
      "metadata": {},
      "outputs": [],
      "source": [
        "for i in parte_4.columns:\n",
        "    parte_4.rename(columns={i:extract_text_between_quotes(i)[0]},inplace=True)\n",
        "\n",
        "parte_4.columns"
      ]
    },
    {
      "cell_type": "code",
      "execution_count": 52,
      "metadata": {
        "id": "2TmSasCZecjx"
      },
      "outputs": [
        {
          "name": "stderr",
          "output_type": "stream",
          "text": [
            "C:\\Users\\logonrmlocal\\AppData\\Local\\Temp\\ipykernel_3260\\3239486589.py:3: SettingWithCopyWarning: \n",
            "A value is trying to be set on a copy of a slice from a DataFrame.\n",
            "Try using .loc[row_indexer,col_indexer] = value instead\n",
            "\n",
            "See the caveats in the documentation: https://pandas.pydata.org/pandas-docs/stable/user_guide/indexing.html#returning-a-view-versus-a-copy\n",
            "  df_P4_e['contador'] = 1\n"
          ]
        },
        {
          "data": {
            "text/html": [
              "<div>\n",
              "<style scoped>\n",
              "    .dataframe tbody tr th:only-of-type {\n",
              "        vertical-align: middle;\n",
              "    }\n",
              "\n",
              "    .dataframe tbody tr th {\n",
              "        vertical-align: top;\n",
              "    }\n",
              "\n",
              "    .dataframe thead th {\n",
              "        text-align: right;\n",
              "    }\n",
              "</style>\n",
              "<table border=\"1\" class=\"dataframe\">\n",
              "  <thead>\n",
              "    <tr style=\"text-align: right;\">\n",
              "      <th></th>\n",
              "      <th>P4_e</th>\n",
              "      <th>contador</th>\n",
              "    </tr>\n",
              "  </thead>\n",
              "  <tbody>\n",
              "    <tr>\n",
              "      <th>11</th>\n",
              "      <td>SQL</td>\n",
              "      <td>1245</td>\n",
              "    </tr>\n",
              "    <tr>\n",
              "      <th>8</th>\n",
              "      <td>Python</td>\n",
              "      <td>1136</td>\n",
              "    </tr>\n",
              "    <tr>\n",
              "      <th>6</th>\n",
              "      <td>Não utiliza programação</td>\n",
              "      <td>325</td>\n",
              "    </tr>\n",
              "    <tr>\n",
              "      <th>9</th>\n",
              "      <td>R</td>\n",
              "      <td>113</td>\n",
              "    </tr>\n",
              "    <tr>\n",
              "      <th>13</th>\n",
              "      <td>Visual Basic/VBA</td>\n",
              "      <td>56</td>\n",
              "    </tr>\n",
              "    <tr>\n",
              "      <th>12</th>\n",
              "      <td>Scala</td>\n",
              "      <td>26</td>\n",
              "    </tr>\n",
              "    <tr>\n",
              "      <th>3</th>\n",
              "      <td>JavaScript</td>\n",
              "      <td>22</td>\n",
              "    </tr>\n",
              "    <tr>\n",
              "      <th>10</th>\n",
              "      <td>SAS/Stata</td>\n",
              "      <td>19</td>\n",
              "    </tr>\n",
              "    <tr>\n",
              "      <th>1</th>\n",
              "      <td>C/C++/C#</td>\n",
              "      <td>13</td>\n",
              "    </tr>\n",
              "    <tr>\n",
              "      <th>2</th>\n",
              "      <td>Java</td>\n",
              "      <td>12</td>\n",
              "    </tr>\n",
              "    <tr>\n",
              "      <th>7</th>\n",
              "      <td>PHP</td>\n",
              "      <td>8</td>\n",
              "    </tr>\n",
              "    <tr>\n",
              "      <th>0</th>\n",
              "      <td>.NET</td>\n",
              "      <td>3</td>\n",
              "    </tr>\n",
              "    <tr>\n",
              "      <th>5</th>\n",
              "      <td>Matlab</td>\n",
              "      <td>2</td>\n",
              "    </tr>\n",
              "    <tr>\n",
              "      <th>4</th>\n",
              "      <td>Julia</td>\n",
              "      <td>1</td>\n",
              "    </tr>\n",
              "  </tbody>\n",
              "</table>\n",
              "</div>"
            ],
            "text/plain": [
              "                      P4_e   contador\n",
              "11                      SQL      1245\n",
              "8                    Python      1136\n",
              "6   Não utiliza programação       325\n",
              "9                         R       113\n",
              "13         Visual Basic/VBA        56\n",
              "12                    Scala        26\n",
              "3                JavaScript        22\n",
              "10                SAS/Stata        19\n",
              "1                  C/C++/C#        13\n",
              "2                      Java        12\n",
              "7                       PHP         8\n",
              "0                      .NET         3\n",
              "5                    Matlab         2\n",
              "4                     Julia         1"
            ]
          },
          "execution_count": 52,
          "metadata": {},
          "output_type": "execute_result"
        }
      ],
      "source": [
        "#Entre as linguagens listadas abaixo, qual é a que você mais utiliza no trabalho?\n",
        "df_P4_e = parte_4.filter(like='P4_e ',axis=1)\n",
        "df_P4_e['contador'] = 1\n",
        "df_P4_e = df_P4_e.groupby('P4_e ',as_index=False).agg({'contador':'sum'}).sort_values(by='contador',ascending=False)\n",
        "\n",
        "df_P4_e"
      ]
    },
    {
      "cell_type": "code",
      "execution_count": 53,
      "metadata": {},
      "outputs": [
        {
          "name": "stderr",
          "output_type": "stream",
          "text": [
            "C:\\Users\\logonrmlocal\\AppData\\Local\\Temp\\ipykernel_3260\\3879918728.py:3: SettingWithCopyWarning: \n",
            "A value is trying to be set on a copy of a slice from a DataFrame.\n",
            "Try using .loc[row_indexer,col_indexer] = value instead\n",
            "\n",
            "See the caveats in the documentation: https://pandas.pydata.org/pandas-docs/stable/user_guide/indexing.html#returning-a-view-versus-a-copy\n",
            "  df_P4_a['contador'] = 1\n"
          ]
        },
        {
          "data": {
            "text/html": [
              "<div>\n",
              "<style scoped>\n",
              "    .dataframe tbody tr th:only-of-type {\n",
              "        vertical-align: middle;\n",
              "    }\n",
              "\n",
              "    .dataframe tbody tr th {\n",
              "        vertical-align: top;\n",
              "    }\n",
              "\n",
              "    .dataframe thead th {\n",
              "        text-align: right;\n",
              "    }\n",
              "</style>\n",
              "<table border=\"1\" class=\"dataframe\">\n",
              "  <thead>\n",
              "    <tr style=\"text-align: right;\">\n",
              "      <th></th>\n",
              "      <th>P4_a</th>\n",
              "      <th>contador</th>\n",
              "      <th>percentual</th>\n",
              "    </tr>\n",
              "  </thead>\n",
              "  <tbody>\n",
              "    <tr>\n",
              "      <th>0</th>\n",
              "      <td>*Análise de Dados/BI:* Extrai e cruza dados un...</td>\n",
              "      <td>1326</td>\n",
              "      <td>44.751941</td>\n",
              "    </tr>\n",
              "    <tr>\n",
              "      <th>2</th>\n",
              "      <td>*Engenharia de Dados:* Modela soluções de arqu...</td>\n",
              "      <td>675</td>\n",
              "      <td>22.780965</td>\n",
              "    </tr>\n",
              "    <tr>\n",
              "      <th>1</th>\n",
              "      <td>*Ciência de Dados/Machine Learning: *Desenha e...</td>\n",
              "      <td>629</td>\n",
              "      <td>21.228485</td>\n",
              "    </tr>\n",
              "    <tr>\n",
              "      <th>3</th>\n",
              "      <td>Não atuo em nenhuma das frentes citadas.</td>\n",
              "      <td>333</td>\n",
              "      <td>11.238610</td>\n",
              "    </tr>\n",
              "  </tbody>\n",
              "</table>\n",
              "</div>"
            ],
            "text/plain": [
              "                                               P4_a   contador  percentual\n",
              "0  *Análise de Dados/BI:* Extrai e cruza dados un...      1326   44.751941\n",
              "2  *Engenharia de Dados:* Modela soluções de arqu...       675   22.780965\n",
              "1  *Ciência de Dados/Machine Learning: *Desenha e...       629   21.228485\n",
              "3           Não atuo em nenhuma das frentes citadas.       333   11.238610"
            ]
          },
          "execution_count": 53,
          "metadata": {},
          "output_type": "execute_result"
        }
      ],
      "source": [
        "#Mesmo que esse não seja seu cargo formal, você considera que sua atuação no dia a dia, reflete alguma das opções listadas abaixo?'\n",
        "df_P4_a = parte_4.filter(like='P4_a ',axis=1)\n",
        "df_P4_a['contador'] = 1\n",
        "df_P4_a = df_P4_a.groupby('P4_a ',as_index=False).agg({'contador':'sum'}).sort_values(by='contador',ascending=False)\n",
        "\n",
        "df_P4_a['percentual'] = (df_P4_a['contador'] / df_P4_a['contador'].sum()) * 100\n",
        "\n",
        "\n",
        "df_P4_a\n"
      ]
    },
    {
      "cell_type": "code",
      "execution_count": 92,
      "metadata": {},
      "outputs": [
        {
          "name": "stderr",
          "output_type": "stream",
          "text": [
            "Matplotlib is building the font cache; this may take a moment.\n"
          ]
        },
        {
          "data": {
            "image/png": "[encoded data removed]",
            "text/plain": [
              "<Figure size 1000x600 with 2 Axes>"
            ]
          },
          "metadata": {},
          "output_type": "display_data"
        }
      ],
      "source": [
        "df_P4_e_pivot = parte_4[['P4_a ','P4_e ']]\n",
        "df_P4_e_pivot = df_P4_e_agg.dropna()\n",
        "df_P4_e_pivot['P4_a '] = parte_4['P4_a '].str.split(':',expand=True)[0]\n",
        "df_P4_e_pivot = df_P4_e_pivot.pivot_table(index='P4_a ',columns='P4_e ',aggfunc='size', fill_value=0)\n",
        "df_P4_e_pivot\n",
        "\n",
        "\n",
        "import seaborn as sns\n",
        "import matplotlib.pyplot as plt\n",
        "\n",
        "plt.figure(figsize=(10, 6))\n",
        "sns.heatmap(df_P4_e_pivot, cmap='YlGnBu', annot=True, fmt='d')  # cmap define a paleta de cores\n",
        "plt.title('Contagem de Linguagens por Tipo de Trabalho')\n",
        "plt.xlabel('Linguagem Mais Usada')\n",
        "plt.ylabel('Tipo de Trabalho')\n",
        "plt.show()"
      ]
    }
  ],
  "metadata": {
    "colab": {
      "collapsed_sections": [
        "vlDvBN_lZzqV"
      ],
      "provenance": []
    },
    "kernelspec": {
      "display_name": "Python 3",
      "name": "python3"
    },
    "language_info": {
      "codemirror_mode": {
        "name": "ipython",
        "version": 3
      },
      "file_extension": ".py",
      "mimetype": "text/x-python",
      "name": "python",
      "nbconvert_exporter": "python",
      "pygments_lexer": "ipython3",
      "version": "3.9.12"
    }
  },
  "nbformat": 4,
  "nbformat_minor": 0
}
