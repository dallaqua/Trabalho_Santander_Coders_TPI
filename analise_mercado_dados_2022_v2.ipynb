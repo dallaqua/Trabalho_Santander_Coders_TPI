{
  "nbformat": 4,
  "nbformat_minor": 0,
  "metadata": {
    "colab": {
      "provenance": []
    },
    "kernelspec": {
      "name": "python3",
      "display_name": "Python 3"
    },
    "language_info": {
      "name": "python"
    }
  },
  "cells": [
    {
      "cell_type": "markdown",
      "source": [
        "# Área de Dados\n",
        "\n",
        "A melhoria do processamento dos computadores, o surgimento de tecnologias como computação em nuvem, machine e a possibilidade da coleta de dados de diversos equipamentos através da Internet das Coisas (_Internet of Things_, _IoT_) fez com que uma enorme quantidade de dados (_Big Data_) começasse a ser produzido.\n",
        "\n",
        "Esses dados, quando refinados, analisados e interpretados, podem trazer poderosas descobertas que melhoram as tomadas de decisão, ajudando a construir estratégias de mercado/negócios e a diminuir custos.\n",
        "\n",
        "Existem diversas possibilidades de atuação na área, como por exemplo, na coleta e limpeza dos dados, análises exploratórias desses dados, construção e implantação de modelos de aprendizado de máquina (_machine learning_), e interpretação dos resultados desses modelos.\n",
        "\n",
        "Os profissionais da área de dados podem ser divididos nas seguintes profissões:\n",
        "- Engenheiro de dados: responsável pela coleta e limpeza dos dados\n",
        "- Analista de dados: pode realizar limpeza dos dados e também é responsável pela análise exploratória desses dados\n",
        "- Engenheiro de _machine learning_: constrói e implanta os modelos\n",
        "- Cientista de dados: pode realizar qualquer uma dessas etapas\n",
        "\n",
        "Neste estudo analisaremos os dados coletados na pesquisa [State of Data Brazil](https://www.stateofdata.com.br/) do ano de 2022, que fornece um panorama sobre o mercado de trabalho na área de dados no Brasil. Essa pesquisa foi realizada pela **Data Hackers** e a **Bain & Company**, no período de 10 de outubro a 28 de novembro de 2022. O arquivo .csv com as respostas dos 4.271 participantes pode ser obtido na plataforma [Kaggle](https://www.kaggle.com/datasets/datahackers/state-of-data-2022)."
      ],
      "metadata": {
        "id": "4IlfOfq6WImA"
      }
    },
    {
      "cell_type": "markdown",
      "source": [
        "# State of Data Brazil 2022"
      ],
      "metadata": {
        "id": "tFeEsiJkWVo3"
      }
    },
    {
      "cell_type": "code",
      "execution_count": null,
      "metadata": {
        "id": "49Ai8OqpV7wo"
      },
      "outputs": [],
      "source": [
        "import pandas as pd\n",
        "import seaborn as sns\n",
        "import geopandas as gpd\n",
        "import matplotlib.pyplot as plt"
      ]
    },
    {
      "cell_type": "code",
      "source": [
        "df = pd.read_csv('State_of_data_2022.csv', sep = ',')\n",
        "df.drop(\"('P0', 'id')\", axis = 1, inplace=True)\n",
        "df.info()"
      ],
      "metadata": {
        "colab": {
          "base_uri": "https://localhost:8080/",
          "height": 375
        },
        "id": "EAFQLaeOWcaE",
        "outputId": "eb7bf1b7-dd21-4859-9946-ebc2e454edb4"
      },
      "execution_count": null,
      "outputs": [
        {
          "output_type": "error",
          "ename": "FileNotFoundError",
          "evalue": "ignored",
          "traceback": [
            "\u001b[0;31m---------------------------------------------------------------------------\u001b[0m",
            "\u001b[0;31mFileNotFoundError\u001b[0m                         Traceback (most recent call last)",
            "\u001b[0;32m<ipython-input-2-e8f041611efb>\u001b[0m in \u001b[0;36m<cell line: 1>\u001b[0;34m()\u001b[0m\n\u001b[0;32m----> 1\u001b[0;31m \u001b[0mdf\u001b[0m \u001b[0;34m=\u001b[0m \u001b[0mpd\u001b[0m\u001b[0;34m.\u001b[0m\u001b[0mread_csv\u001b[0m\u001b[0;34m(\u001b[0m\u001b[0;34m'State_of_data_2022.csv'\u001b[0m\u001b[0;34m,\u001b[0m \u001b[0msep\u001b[0m \u001b[0;34m=\u001b[0m \u001b[0;34m','\u001b[0m\u001b[0;34m)\u001b[0m\u001b[0;34m\u001b[0m\u001b[0;34m\u001b[0m\u001b[0m\n\u001b[0m\u001b[1;32m      2\u001b[0m \u001b[0mdf\u001b[0m\u001b[0;34m.\u001b[0m\u001b[0mdrop\u001b[0m\u001b[0;34m(\u001b[0m\u001b[0;34m\"('P0', 'id')\"\u001b[0m\u001b[0;34m,\u001b[0m \u001b[0maxis\u001b[0m \u001b[0;34m=\u001b[0m \u001b[0;36m1\u001b[0m\u001b[0;34m,\u001b[0m \u001b[0minplace\u001b[0m\u001b[0;34m=\u001b[0m\u001b[0;32mTrue\u001b[0m\u001b[0;34m)\u001b[0m\u001b[0;34m\u001b[0m\u001b[0;34m\u001b[0m\u001b[0m\n\u001b[1;32m      3\u001b[0m \u001b[0mdf\u001b[0m\u001b[0;34m.\u001b[0m\u001b[0minfo\u001b[0m\u001b[0;34m(\u001b[0m\u001b[0;34m)\u001b[0m\u001b[0;34m\u001b[0m\u001b[0;34m\u001b[0m\u001b[0m\n",
            "\u001b[0;32m/usr/local/lib/python3.10/dist-packages/pandas/util/_decorators.py\u001b[0m in \u001b[0;36mwrapper\u001b[0;34m(*args, **kwargs)\u001b[0m\n\u001b[1;32m    209\u001b[0m                 \u001b[0;32melse\u001b[0m\u001b[0;34m:\u001b[0m\u001b[0;34m\u001b[0m\u001b[0;34m\u001b[0m\u001b[0m\n\u001b[1;32m    210\u001b[0m                     \u001b[0mkwargs\u001b[0m\u001b[0;34m[\u001b[0m\u001b[0mnew_arg_name\u001b[0m\u001b[0;34m]\u001b[0m \u001b[0;34m=\u001b[0m \u001b[0mnew_arg_value\u001b[0m\u001b[0;34m\u001b[0m\u001b[0;34m\u001b[0m\u001b[0m\n\u001b[0;32m--> 211\u001b[0;31m             \u001b[0;32mreturn\u001b[0m \u001b[0mfunc\u001b[0m\u001b[0;34m(\u001b[0m\u001b[0;34m*\u001b[0m\u001b[0margs\u001b[0m\u001b[0;34m,\u001b[0m \u001b[0;34m**\u001b[0m\u001b[0mkwargs\u001b[0m\u001b[0;34m)\u001b[0m\u001b[0;34m\u001b[0m\u001b[0;34m\u001b[0m\u001b[0m\n\u001b[0m\u001b[1;32m    212\u001b[0m \u001b[0;34m\u001b[0m\u001b[0m\n\u001b[1;32m    213\u001b[0m         \u001b[0;32mreturn\u001b[0m \u001b[0mcast\u001b[0m\u001b[0;34m(\u001b[0m\u001b[0mF\u001b[0m\u001b[0;34m,\u001b[0m \u001b[0mwrapper\u001b[0m\u001b[0;34m)\u001b[0m\u001b[0;34m\u001b[0m\u001b[0;34m\u001b[0m\u001b[0m\n",
            "\u001b[0;32m/usr/local/lib/python3.10/dist-packages/pandas/util/_decorators.py\u001b[0m in \u001b[0;36mwrapper\u001b[0;34m(*args, **kwargs)\u001b[0m\n\u001b[1;32m    329\u001b[0m                     \u001b[0mstacklevel\u001b[0m\u001b[0;34m=\u001b[0m\u001b[0mfind_stack_level\u001b[0m\u001b[0;34m(\u001b[0m\u001b[0;34m)\u001b[0m\u001b[0;34m,\u001b[0m\u001b[0;34m\u001b[0m\u001b[0;34m\u001b[0m\u001b[0m\n\u001b[1;32m    330\u001b[0m                 )\n\u001b[0;32m--> 331\u001b[0;31m             \u001b[0;32mreturn\u001b[0m \u001b[0mfunc\u001b[0m\u001b[0;34m(\u001b[0m\u001b[0;34m*\u001b[0m\u001b[0margs\u001b[0m\u001b[0;34m,\u001b[0m \u001b[0;34m**\u001b[0m\u001b[0mkwargs\u001b[0m\u001b[0;34m)\u001b[0m\u001b[0;34m\u001b[0m\u001b[0;34m\u001b[0m\u001b[0m\n\u001b[0m\u001b[1;32m    332\u001b[0m \u001b[0;34m\u001b[0m\u001b[0m\n\u001b[1;32m    333\u001b[0m         \u001b[0;31m# error: \"Callable[[VarArg(Any), KwArg(Any)], Any]\" has no\u001b[0m\u001b[0;34m\u001b[0m\u001b[0;34m\u001b[0m\u001b[0m\n",
            "\u001b[0;32m/usr/local/lib/python3.10/dist-packages/pandas/io/parsers/readers.py\u001b[0m in \u001b[0;36mread_csv\u001b[0;34m(filepath_or_buffer, sep, delimiter, header, names, index_col, usecols, squeeze, prefix, mangle_dupe_cols, dtype, engine, converters, true_values, false_values, skipinitialspace, skiprows, skipfooter, nrows, na_values, keep_default_na, na_filter, verbose, skip_blank_lines, parse_dates, infer_datetime_format, keep_date_col, date_parser, dayfirst, cache_dates, iterator, chunksize, compression, thousands, decimal, lineterminator, quotechar, quoting, doublequote, escapechar, comment, encoding, encoding_errors, dialect, error_bad_lines, warn_bad_lines, on_bad_lines, delim_whitespace, low_memory, memory_map, float_precision, storage_options)\u001b[0m\n\u001b[1;32m    948\u001b[0m     \u001b[0mkwds\u001b[0m\u001b[0;34m.\u001b[0m\u001b[0mupdate\u001b[0m\u001b[0;34m(\u001b[0m\u001b[0mkwds_defaults\u001b[0m\u001b[0;34m)\u001b[0m\u001b[0;34m\u001b[0m\u001b[0;34m\u001b[0m\u001b[0m\n\u001b[1;32m    949\u001b[0m \u001b[0;34m\u001b[0m\u001b[0m\n\u001b[0;32m--> 950\u001b[0;31m     \u001b[0;32mreturn\u001b[0m \u001b[0m_read\u001b[0m\u001b[0;34m(\u001b[0m\u001b[0mfilepath_or_buffer\u001b[0m\u001b[0;34m,\u001b[0m \u001b[0mkwds\u001b[0m\u001b[0;34m)\u001b[0m\u001b[0;34m\u001b[0m\u001b[0;34m\u001b[0m\u001b[0m\n\u001b[0m\u001b[1;32m    951\u001b[0m \u001b[0;34m\u001b[0m\u001b[0m\n\u001b[1;32m    952\u001b[0m \u001b[0;34m\u001b[0m\u001b[0m\n",
            "\u001b[0;32m/usr/local/lib/python3.10/dist-packages/pandas/io/parsers/readers.py\u001b[0m in \u001b[0;36m_read\u001b[0;34m(filepath_or_buffer, kwds)\u001b[0m\n\u001b[1;32m    603\u001b[0m \u001b[0;34m\u001b[0m\u001b[0m\n\u001b[1;32m    604\u001b[0m     \u001b[0;31m# Create the parser.\u001b[0m\u001b[0;34m\u001b[0m\u001b[0;34m\u001b[0m\u001b[0m\n\u001b[0;32m--> 605\u001b[0;31m     \u001b[0mparser\u001b[0m \u001b[0;34m=\u001b[0m \u001b[0mTextFileReader\u001b[0m\u001b[0;34m(\u001b[0m\u001b[0mfilepath_or_buffer\u001b[0m\u001b[0;34m,\u001b[0m \u001b[0;34m**\u001b[0m\u001b[0mkwds\u001b[0m\u001b[0;34m)\u001b[0m\u001b[0;34m\u001b[0m\u001b[0;34m\u001b[0m\u001b[0m\n\u001b[0m\u001b[1;32m    606\u001b[0m \u001b[0;34m\u001b[0m\u001b[0m\n\u001b[1;32m    607\u001b[0m     \u001b[0;32mif\u001b[0m \u001b[0mchunksize\u001b[0m \u001b[0;32mor\u001b[0m \u001b[0miterator\u001b[0m\u001b[0;34m:\u001b[0m\u001b[0;34m\u001b[0m\u001b[0;34m\u001b[0m\u001b[0m\n",
            "\u001b[0;32m/usr/local/lib/python3.10/dist-packages/pandas/io/parsers/readers.py\u001b[0m in \u001b[0;36m__init__\u001b[0;34m(self, f, engine, **kwds)\u001b[0m\n\u001b[1;32m   1440\u001b[0m \u001b[0;34m\u001b[0m\u001b[0m\n\u001b[1;32m   1441\u001b[0m         \u001b[0mself\u001b[0m\u001b[0;34m.\u001b[0m\u001b[0mhandles\u001b[0m\u001b[0;34m:\u001b[0m \u001b[0mIOHandles\u001b[0m \u001b[0;34m|\u001b[0m \u001b[0;32mNone\u001b[0m \u001b[0;34m=\u001b[0m \u001b[0;32mNone\u001b[0m\u001b[0;34m\u001b[0m\u001b[0;34m\u001b[0m\u001b[0m\n\u001b[0;32m-> 1442\u001b[0;31m         \u001b[0mself\u001b[0m\u001b[0;34m.\u001b[0m\u001b[0m_engine\u001b[0m \u001b[0;34m=\u001b[0m \u001b[0mself\u001b[0m\u001b[0;34m.\u001b[0m\u001b[0m_make_engine\u001b[0m\u001b[0;34m(\u001b[0m\u001b[0mf\u001b[0m\u001b[0;34m,\u001b[0m \u001b[0mself\u001b[0m\u001b[0;34m.\u001b[0m\u001b[0mengine\u001b[0m\u001b[0;34m)\u001b[0m\u001b[0;34m\u001b[0m\u001b[0;34m\u001b[0m\u001b[0m\n\u001b[0m\u001b[1;32m   1443\u001b[0m \u001b[0;34m\u001b[0m\u001b[0m\n\u001b[1;32m   1444\u001b[0m     \u001b[0;32mdef\u001b[0m \u001b[0mclose\u001b[0m\u001b[0;34m(\u001b[0m\u001b[0mself\u001b[0m\u001b[0;34m)\u001b[0m \u001b[0;34m->\u001b[0m \u001b[0;32mNone\u001b[0m\u001b[0;34m:\u001b[0m\u001b[0;34m\u001b[0m\u001b[0;34m\u001b[0m\u001b[0m\n",
            "\u001b[0;32m/usr/local/lib/python3.10/dist-packages/pandas/io/parsers/readers.py\u001b[0m in \u001b[0;36m_make_engine\u001b[0;34m(self, f, engine)\u001b[0m\n\u001b[1;32m   1733\u001b[0m                 \u001b[0;32mif\u001b[0m \u001b[0;34m\"b\"\u001b[0m \u001b[0;32mnot\u001b[0m \u001b[0;32min\u001b[0m \u001b[0mmode\u001b[0m\u001b[0;34m:\u001b[0m\u001b[0;34m\u001b[0m\u001b[0;34m\u001b[0m\u001b[0m\n\u001b[1;32m   1734\u001b[0m                     \u001b[0mmode\u001b[0m \u001b[0;34m+=\u001b[0m \u001b[0;34m\"b\"\u001b[0m\u001b[0;34m\u001b[0m\u001b[0;34m\u001b[0m\u001b[0m\n\u001b[0;32m-> 1735\u001b[0;31m             self.handles = get_handle(\n\u001b[0m\u001b[1;32m   1736\u001b[0m                 \u001b[0mf\u001b[0m\u001b[0;34m,\u001b[0m\u001b[0;34m\u001b[0m\u001b[0;34m\u001b[0m\u001b[0m\n\u001b[1;32m   1737\u001b[0m                 \u001b[0mmode\u001b[0m\u001b[0;34m,\u001b[0m\u001b[0;34m\u001b[0m\u001b[0;34m\u001b[0m\u001b[0m\n",
            "\u001b[0;32m/usr/local/lib/python3.10/dist-packages/pandas/io/common.py\u001b[0m in \u001b[0;36mget_handle\u001b[0;34m(path_or_buf, mode, encoding, compression, memory_map, is_text, errors, storage_options)\u001b[0m\n\u001b[1;32m    854\u001b[0m         \u001b[0;32mif\u001b[0m \u001b[0mioargs\u001b[0m\u001b[0;34m.\u001b[0m\u001b[0mencoding\u001b[0m \u001b[0;32mand\u001b[0m \u001b[0;34m\"b\"\u001b[0m \u001b[0;32mnot\u001b[0m \u001b[0;32min\u001b[0m \u001b[0mioargs\u001b[0m\u001b[0;34m.\u001b[0m\u001b[0mmode\u001b[0m\u001b[0;34m:\u001b[0m\u001b[0;34m\u001b[0m\u001b[0;34m\u001b[0m\u001b[0m\n\u001b[1;32m    855\u001b[0m             \u001b[0;31m# Encoding\u001b[0m\u001b[0;34m\u001b[0m\u001b[0;34m\u001b[0m\u001b[0m\n\u001b[0;32m--> 856\u001b[0;31m             handle = open(\n\u001b[0m\u001b[1;32m    857\u001b[0m                 \u001b[0mhandle\u001b[0m\u001b[0;34m,\u001b[0m\u001b[0;34m\u001b[0m\u001b[0;34m\u001b[0m\u001b[0m\n\u001b[1;32m    858\u001b[0m                 \u001b[0mioargs\u001b[0m\u001b[0;34m.\u001b[0m\u001b[0mmode\u001b[0m\u001b[0;34m,\u001b[0m\u001b[0;34m\u001b[0m\u001b[0;34m\u001b[0m\u001b[0m\n",
            "\u001b[0;31mFileNotFoundError\u001b[0m: [Errno 2] No such file or directory: 'State_of_data_2022.csv'"
          ]
        }
      ]
    },
    {
      "cell_type": "markdown",
      "source": [
        "A pesquisa é dividida em 8 partes, totalizando 352 colunas (contando com a coluna de id, identificada como P0):\n",
        "\n",
        "Parte 1 - Dados demográfico\n",
        "Parte 2 - Dados sobre carreira\n",
        "Parte 3 - Desafios dos gestores de times de dados\n",
        "Parte 4 - Conhecimentos na área de dados\n",
        "Parte 5 - Objetivos na área de dados\n",
        "Parte 6 - Conhecimentos em Engenharia de Dados/DE\n",
        "Parte 7 - Conhecimentos em Análise de Dados/DA\n",
        "Parte 8 - Conhecimentos em Ciências de Dados/DS\n",
        "\n",
        "Algumas perguntas podem ter respostas multi-valoradas, então ocupando mais de uma coluna no dataset. Dessa forma, cada coluna é identificada como uma tupla (Pergunta,Alternativa escolhida), e as perguntas são divididas em Parte, Letra da pergunta e Número da opção escolhida:\n",
        "\n",
        "    P3_a_1 = Parte 3, pergunta (a), opção (1)\n",
        "\n",
        "A fim de garantir o anonimato dos respondentes, os realizadores da pesquisa retiraram respostas que possam mostrar outliers e que fariam ser possível o reconhecimento de quem respondeu.\n",
        "\n",
        "A seguir são mostradas as perguntas mais gerais para cada parte do questionário."
      ],
      "metadata": {
        "id": "CKnEDbqkWnQA"
      }
    },
    {
      "cell_type": "code",
      "source": [
        "# Separando por partes\n",
        "df_parte_1 = df.filter(like = 'P1', axis = 1)\n",
        "df_parte_2 = df.filter(like = 'P2', axis = 1)\n",
        "df_parte_3 = df.filter(like = 'P3', axis = 1)\n",
        "df_parte_4 = df.filter(like = 'P4', axis = 1)\n",
        "df_parte_5 = df.filter(like = 'P5', axis = 1)\n",
        "df_parte_6 = df.filter(like = 'P6', axis = 1)\n",
        "df_parte_7 = df.filter(like = 'P7', axis = 1)\n",
        "df_parte_8 = df.filter(like = 'P8', axis = 1)"
      ],
      "metadata": {
        "id": "IW_WTkMAWQWy"
      },
      "execution_count": null,
      "outputs": []
    },
    {
      "cell_type": "code",
      "source": [
        "def get_perguntas(df_parte: pd.DataFrame,parte:int) -> None:\n",
        "    columns   = list(df_parte.columns)\n",
        "    print(f'Parte {parte} - Total de colunas: {len(columns)}')\n",
        "    count = 0\n",
        "    for c in columns:\n",
        "        aux            = c.split('(')[1].split(')')[0]\n",
        "        identificador1 = aux.split(',')[0]\n",
        "        if len(identificador1.split('_')) <= 2:\n",
        "            print(aux)\n",
        "            count += 1\n",
        "    print(f'Total de perguntas gerais: {count}')"
      ],
      "metadata": {
        "id": "8nPz6gGgWy7g"
      },
      "execution_count": null,
      "outputs": []
    },
    {
      "cell_type": "code",
      "source": [
        "get_perguntas(df_parte_1,1)"
      ],
      "metadata": {
        "id": "baeHfIqHW0hv"
      },
      "execution_count": null,
      "outputs": []
    },
    {
      "cell_type": "code",
      "source": [
        "get_perguntas(df_parte_2,2)"
      ],
      "metadata": {
        "id": "IvCchAYqW1_V"
      },
      "execution_count": null,
      "outputs": []
    },
    {
      "cell_type": "code",
      "source": [
        "get_perguntas(df_parte_3,3)"
      ],
      "metadata": {
        "id": "yRNXttgtW2_c"
      },
      "execution_count": null,
      "outputs": []
    },
    {
      "cell_type": "code",
      "source": [
        "get_perguntas(df_parte_4,4)"
      ],
      "metadata": {
        "id": "j7mPufuqW6Gr"
      },
      "execution_count": null,
      "outputs": []
    },
    {
      "cell_type": "code",
      "source": [
        "get_perguntas(df_parte_5,5)"
      ],
      "metadata": {
        "id": "enteY85tZgLy"
      },
      "execution_count": null,
      "outputs": []
    },
    {
      "cell_type": "code",
      "source": [
        "get_perguntas(df_parte_6,6)"
      ],
      "metadata": {
        "id": "MeuvPJ7mZgTl"
      },
      "execution_count": null,
      "outputs": []
    },
    {
      "cell_type": "code",
      "source": [
        "get_perguntas(df_parte_7,7)"
      ],
      "metadata": {
        "id": "zzZJdbVBZgY3"
      },
      "execution_count": null,
      "outputs": []
    },
    {
      "cell_type": "code",
      "source": [
        "get_perguntas(df_parte_8,8)"
      ],
      "metadata": {
        "id": "GXVTOxrYZgbS"
      },
      "execution_count": null,
      "outputs": []
    },
    {
      "cell_type": "markdown",
      "source": [
        "E a seguir é mostrada a contagem dos tipos de dados para cada parte do questionário"
      ],
      "metadata": {
        "id": "FzVJkyeEZlTE"
      }
    },
    {
      "cell_type": "code",
      "source": [
        "def get_tipos(df_parte: pd.DataFrame,parte:str) -> pd.DataFrame:\n",
        "    tipos    = df_parte.dtypes.values.tolist()\n",
        "    df_tipos = pd.DataFrame(tipos,columns=[parte])\n",
        "    df_aggr  = df_tipos.groupby([parte])[parte].count()\n",
        "    return df_aggr\n",
        "\n",
        "def get_df_tipos() -> pd.DataFrame:\n",
        "    dict_columns = {x: f'P{x+1}' for x in range(8)}\n",
        "    dfs_tipos = []\n",
        "    dfs_tipos.append(get_tipos(df_parte_1,'P1'))\n",
        "    dfs_tipos.append(get_tipos(df_parte_2,'P2'))\n",
        "    dfs_tipos.append(get_tipos(df_parte_3,'P3'))\n",
        "    dfs_tipos.append(get_tipos(df_parte_4,'P4'))\n",
        "    dfs_tipos.append(get_tipos(df_parte_5,'P5'))\n",
        "    dfs_tipos.append(get_tipos(df_parte_6,'P6'))\n",
        "    dfs_tipos.append(get_tipos(df_parte_7,'P7'))\n",
        "    dfs_tipos.append(get_tipos(df_parte_8,'P8'))\n",
        "    df_tipos = pd.concat(dfs_tipos,axis=1,ignore_index=True)\n",
        "    df_tipos.rename(columns=dict_columns,inplace=True)\n",
        "    df_tipos = df_tipos.fillna(0)\n",
        "    df_tipos = df_tipos.astype('int32',errors='ignore')\n",
        "    df_tipos['Total'] = df_tipos.loc[df_tipos.index].sum(axis=1)\n",
        "    return df_tipos"
      ],
      "metadata": {
        "id": "K7VB_wDEZgdt"
      },
      "execution_count": null,
      "outputs": []
    },
    {
      "cell_type": "code",
      "source": [
        "df_tipos = get_df_tipos()\n",
        "display(df_tipos)"
      ],
      "metadata": {
        "id": "ywTj62JgZggL"
      },
      "execution_count": null,
      "outputs": []
    },
    {
      "cell_type": "markdown",
      "source": [
        "# Estatísticas gerais da idade dos profissionais\n",
        "\n",
        "A coluna ('P1_a ', 'Idade') é a única do dataset que possui valores contínuos. As outras colunas de tipo float64 apenas indicam se o respondente escolheu uma dada opção de resposta (1 se escolheu a resposta e 0 para se não a escolheu).\n",
        "\n",
        "Tirando algumas estatísticas básicas temos que a idade digitada pelos respondentes varia de 18 a 54 anos, com média de 31 anos e mediana de 30 anos.\n",
        "\n"
      ],
      "metadata": {
        "id": "vENF7VCIZptB"
      }
    },
    {
      "cell_type": "code",
      "source": [
        "df_idade = pd.DataFrame(df_parte_1[\"('P1_a ', 'Idade')\"].describe())\n",
        "df_idade.rename(columns={\"('P1_a ', 'Idade')\": \"Idade\"}, inplace=True)\n",
        "display(df_idade)\n",
        "\n",
        "fig, ax = plt.subplots(nrows=1, ncols=2, figsize=(15,9))\n",
        "\n",
        "sns.histplot(data=df_parte_1, x=\"('P1_a ', 'Idade')\",ax=ax[0], kde=True);\n",
        "ax[0].set_title('Histograma da idade dos profissionais')\n",
        "ax[0].set_xlabel('Idade')\n",
        "ax[0].set_ylabel('Número de ocorrências')\n",
        "\n",
        "df_parte_1.boxplot(column=[\"('P1_a ', 'Idade')\"], ax=ax[1], grid=False)\n",
        "ax[1].set_title('Boxplot das idades dos profissionais')\n",
        "ax[1].set_ylabel('Idade')"
      ],
      "metadata": {
        "id": "WqMhiRrXZ0DB"
      },
      "execution_count": null,
      "outputs": []
    },
    {
      "cell_type": "markdown",
      "source": [
        "# Distribuição das idades dos profissionais por gênero e nível de carreira"
      ],
      "metadata": {
        "id": "WquzOHWZZ30V"
      }
    },
    {
      "cell_type": "code",
      "source": [
        "fig, ax = plt.subplots(nrows=1, ncols=2, figsize=(15,9))\n",
        "df_parte_1.boxplot(column=[\"('P1_a ', 'Idade')\"], by=\"('P1_b ', 'Genero')\", ax=ax[0], grid=False);\n",
        "ax[0].set_title('Boxplot das idades dos profissionais por gênero')\n",
        "ax[0].set_ylabel('Idade')\n",
        "ax[0].set_xlabel('Gênero')\n",
        "\n",
        "df.boxplot(column=[\"('P1_a ', 'Idade')\"], by=\"('P2_g ', 'Nivel')\", ax=ax[1], grid=False);\n",
        "ax[1].set_title('Boxplot das idades dos profissionais por nível')\n",
        "ax[1].set_ylabel('Idade')\n",
        "ax[1].set_xlabel('Nível');"
      ],
      "metadata": {
        "id": "at2taXbgaHQq"
      },
      "execution_count": null,
      "outputs": []
    },
    {
      "cell_type": "markdown",
      "source": [
        "# Número de profissionais por Estado e Região do Brasil"
      ],
      "metadata": {
        "id": "va3IRkQJaJQK"
      }
    },
    {
      "cell_type": "code",
      "source": [
        "num_profissionais_nao_moram_brasil = df_parte_1[df_parte_1[\"('P1_g ', 'vive_no_brasil')\"]==False].shape[0]\n",
        "mascara_sem_estado                 = (df_parte_1[\"('P1_i ', 'Estado onde mora')\"].isnull()) & (df_parte_1[\"('P1_g ', 'vive_no_brasil')\"]==True)\n",
        "num_profissionais_nao_responderam  = df_parte_1[mascara_sem_estado].shape[0]\n",
        "\n",
        "print(f'Número de profissionais que não moram no Brasil: {num_profissionais_nao_moram_brasil}')\n",
        "print(f'Número de profissionais que não tem Estado: {num_profissionais_nao_responderam}')"
      ],
      "metadata": {
        "id": "LF0dxkAraUTq"
      },
      "execution_count": null,
      "outputs": []
    },
    {
      "cell_type": "code",
      "source": [
        "df_profissionais_por_estado2 = df_parte_1.groupby(\"('P1_i_1 ', 'uf onde mora')\")[\"('P1_i_1 ', 'uf onde mora')\"].count().sort_values().to_frame()\n",
        "df_profissionais_por_estado2.rename(columns={\"('P1_i_1 ', 'uf onde mora')\": \"Contagem\"},inplace=True)\n",
        "df_profissionais_por_estado2.reset_index(inplace=True)"
      ],
      "metadata": {
        "id": "Qfj9HzfZacgj"
      },
      "execution_count": null,
      "outputs": []
    },
    {
      "cell_type": "code",
      "source": [
        "shp_brasil = 'BR_UF_2022/BR_UF_2022.shp'\n",
        "gdf        = gpd.read_file(shp_brasil)\n",
        "merged_df  = pd.merge(left=gdf,right=df_profissionais_por_estado2,\n",
        "                     how='left', left_on='SIGLA_UF', right_on=\"('P1_i_1 ', 'uf onde mora')\")\n",
        "merged_df.fillna(0,inplace=True)\n"
      ],
      "metadata": {
        "id": "4vKWORm4agwW"
      },
      "execution_count": null,
      "outputs": []
    },
    {
      "cell_type": "code",
      "source": [
        "coluna = \"Contagem\"\n",
        "vmin = merged_df[coluna].min()\n",
        "vmax = merged_df[coluna].max()\n",
        "cmap = 'YlGnBu'\n",
        "fig,ax = plt.subplots(1,figsize=(12,9))\n",
        "ax.axis('off')\n",
        "merged_df.plot(column=coluna, ax=ax, edgecolor='black', linewidth=1, cmap=cmap)\n",
        "ax.set_title('Profissionais por Estado do Brasil')\n",
        "sm = plt.cm.ScalarMappable(norm=plt.Normalize(vmin=vmin, vmax=vmax),\n",
        "                           cmap=cmap)\n",
        "sm._A = []\n",
        "cbaxes = fig.add_axes([0.15,0.25,0.01,0.4])\n",
        "cbar   = fig.colorbar(sm, cax=cbaxes)"
      ],
      "metadata": {
        "id": "onsIACtLahWF"
      },
      "execution_count": null,
      "outputs": []
    },
    {
      "cell_type": "code",
      "source": [
        "num_prof_AM                = df_profissionais_por_estado['Amazonas (AM)']\n",
        "num_prof_PA                = df_profissionais_por_estado['Pará (PA)']\n",
        "mascara_prof_norte_sem_est = (df_parte_1[\"('P1_i_2 ', 'Regiao onde mora')\"] == 'Norte') & (df_parte_1[\"('P1_i ', 'Estado onde mora')\"].isnull())\n",
        "num_prof_norte_sem_estado  = df_parte_1[mascara_prof_norte_sem_est].shape[0]\n",
        "\n",
        "print(f'Número de profissionais no Norte: {df_profissionais_regiao[\"Norte\"]}')\n",
        "print(f'Número de profissionais no Amazonas: {num_prof_AM}')\n",
        "print(f'Número de profissionais no Pará: {num_prof_PA}')\n",
        "print(f'Número de profissionais no Norte mas sem Estado: {num_prof_norte_sem_estado}')"
      ],
      "metadata": {
        "id": "ZmswVMvZa2bb"
      },
      "execution_count": null,
      "outputs": []
    },
    {
      "cell_type": "markdown",
      "source": [
        "O Estado de São Paulo possui a grande maioria de profissionais e outros dois Estados do Sudeste, Minas Gerais e Rio de Janeiro, ficam com o 2º e 3º lugares, explicando a região Sudeste como a que mais tem profissionais de dados no Brasil. Os Estados do Acre, Amapá, Roraima, Tocantins (Norte) e Mato Grosso (Centro-Oeste) não tiveram profissionais.\n",
        "\n",
        "Porém, ao filtrar quais profissionais são da região Norte mas não possuem resposta em Estado, obtemos a quantidade de 15, que é exatamente a quantidade que encontramos anteriormente de profissionais que não tem Estado.\n"
      ],
      "metadata": {
        "id": "yPEO51IqaeH1"
      }
    },
    {
      "cell_type": "markdown",
      "source": [
        "# Número de profissionais por Estado e Região do Brasil separados pelo gênero"
      ],
      "metadata": {
        "id": "6gQ_ji8MaNjX"
      }
    },
    {
      "cell_type": "code",
      "source": [
        "coluna_genero = \"('P1_b ', 'Genero')\"\n",
        "coluna_estado = \"('P1_i ', 'Estado onde mora')\"\n",
        "df_genero_por_estado = df_parte_1.groupby([coluna_estado,coluna_genero]).size()\n",
        "df_genero_por_estado.unstack().sort_values('Masculino').plot(kind='barh',stacked=True, ylabel= 'Estado', xlabel=\"Número de profissionais\",\n",
        "                                    title='Gênero dos profissionais por Estado');"
      ],
      "metadata": {
        "id": "ekcSveccbJt7"
      },
      "execution_count": null,
      "outputs": []
    },
    {
      "cell_type": "code",
      "source": [
        "def tipo_profissionais_por_regiao(df_parte: pd.DataFrame, tipo: str, coluna_tipo: str, campo_sort: str) -> None:\n",
        "    coluna_regiao      = \"('P1_i_2 ', 'Regiao onde mora')\"\n",
        "    df_tipo_por_regiao = df_parte_1.groupby([coluna_regiao,coluna_tipo]).size().unstack().sort_values(campo_sort)\n",
        "    df_tipo_por_regiao.plot(kind='barh',stacked=True, ylabel= 'Região', xlabel=\"Número de profissionais\",\n",
        "                                    title=f'{tipo} por Região')\n",
        "    return df_tipo_por_regiao"
      ],
      "metadata": {
        "id": "U6IoLeixbPI2"
      },
      "execution_count": null,
      "outputs": []
    },
    {
      "cell_type": "code",
      "source": [
        "_ = tipo_profissionais_por_regiao(df_parte_1, 'Gênero dos profissionais', \"('P1_b ', 'Genero')\", 'Masculino')"
      ],
      "metadata": {
        "id": "B4QXAFPebPxC"
      },
      "execution_count": null,
      "outputs": []
    },
    {
      "cell_type": "markdown",
      "source": [
        "Em relação ao gênero, como visto anteriormente, temos uma alta predominância do gênero Masculino, o que também é visto para todos os Estados do Brasil.\n",
        "\n",
        "Dividindo o gênero por regiões, podemos confirmar um maior número de profissionais do gênero Feminino no Estado do Sudeste, o que é explicado no gráfico por Estado, com SP, MG, RJ tendo a maior quantidade de profissionais desse gênero.\n"
      ],
      "metadata": {
        "id": "VKN8JEfAbIG2"
      }
    },
    {
      "cell_type": "markdown",
      "source": [
        "# Número de profissionais por Estado e Região do Brasil separados por Cor/raça/etnia"
      ],
      "metadata": {
        "id": "pFH1P-XUbMY3"
      }
    },
    {
      "cell_type": "code",
      "source": [
        "df_etnia = tipo_profissionais_por_regiao(df_parte_1, 'Cor/raça/etnia dos profissionais', \"('P1_c ', 'Cor/raca/etnia')\", 'Branca')\n"
      ],
      "metadata": {
        "id": "1jYa2pX8bYF9"
      },
      "execution_count": null,
      "outputs": []
    },
    {
      "cell_type": "code",
      "source": [
        "df_etnia.fillna(0,inplace=True)\n",
        "total_etnia_regiao   = df_etnia.sum(axis=1)\n",
        "df_etnia_porcentagem = df_etnia.divide(total_etnia_regiao,axis=0) * 100\n",
        "display(df_etnia_porcentagem)"
      ],
      "metadata": {
        "id": "LVHPE536bjKv"
      },
      "execution_count": null,
      "outputs": []
    },
    {
      "cell_type": "markdown",
      "source": [
        "Em relação à cor, raça e etnia, já tinha sido mostrada a maior predominância de pessoas brancas. No entanto, nas regiões Nordeste e Norte há uma menor diferença na proporção entre profissionais brancos e pardos (~49% e ~43.5% para o Norte; ~46% e 41% para o Nordeste).\n",
        "\n",
        "O Sul é a região com maior predominância de profissionais brancos, chegando a ~81% dos profissionais na região."
      ],
      "metadata": {
        "id": "tpuxi41rba45"
      }
    },
    {
      "cell_type": "code",
      "source": [
        "df_pcd = tipo_profissionais_por_regiao(df_parte_1, 'Profissionais PCD', \"('P1_d ', 'PCD')\", 'Não')"
      ],
      "metadata": {
        "id": "1Dg1VNm8bk8I"
      },
      "execution_count": null,
      "outputs": []
    },
    {
      "cell_type": "code",
      "source": [
        " df_pcd.fillna(0,inplace=True)\n",
        "display(df_pcd)\n",
        "total_pcd  = df_pcd['Sim'].sum()\n",
        "df_pcd_sim = pd.DataFrame(100 * df_pcd['Sim']/total_pcd).sort_values(by='Sim',ascending=False)\n",
        "display(df_pcd_sim)"
      ],
      "metadata": {
        "id": "wAWa61Ylbns1"
      },
      "execution_count": null,
      "outputs": []
    },
    {
      "cell_type": "markdown",
      "source": [
        "Pelo questionário são muito pouco profissionais PCD na área de dados no Brasil, sendo o Sudeste a região que apresenta a maior proporção desses profissionais, com ~61,5%."
      ],
      "metadata": {
        "id": "gr9ka3VcbsU8"
      }
    },
    {
      "cell_type": "markdown",
      "source": [
        "# Profissionais por área de formação"
      ],
      "metadata": {
        "id": "V-Mswjk-bvMo"
      }
    },
    {
      "cell_type": "code",
      "source": [
        "df_area_formacao       = df_parte_1.groupby(\"('P1_m ', 'Área de Formação')\")[\"('P1_m ', 'Área de Formação')\"].count().sort_values()\n",
        "indexes_area_formacao  = df_area_formacao.index\n",
        "values_area_formacao   = df_area_formacao.values\n",
        "\n",
        "plt.barh(indexes_area_formacao, values_area_formacao)\n",
        "plt.xlabel('Número de profissionais')\n",
        "plt.title('Profissionais por área de formação');"
      ],
      "metadata": {
        "id": "0vV-ZWB0b0n7"
      },
      "execution_count": null,
      "outputs": []
    },
    {
      "cell_type": "code",
      "source": [
        "dict_areas = {\n",
        "  'Ciências Sociais':                                                       'Humanas',\n",
        "  'Ciências Biológicas/ Farmácia/ Medicina/ Área da Saúde':                 'Biológicas',\n",
        "  'Química / Física':                                                       'Exatas',\n",
        "  'Marketing / Publicidade / Comunicação / Jornalismo':                     'Humanas',\n",
        "  'Outra opção':                                                            'Outra opção',\n",
        "  'Estatística/ Matemática / Matemática Computacional/ Ciências Atuariais': 'Exatas',\n",
        "  'Economia/ Administração / Contabilidade / Finanças/ Negócios':           'Humanas',\n",
        "  'Outras Engenharias':                                                     'Exatas',\n",
        "  'Computação / Engenharia de Software / Sistemas de Informação/ TI':       'Exatas'\n",
        "}\n",
        "\n",
        "grandes_areas          = [dict_areas[x] for x in df_parte_1[\"('P1_m ', 'Área de Formação')\"].to_list() if not pd.isna(x)]\n",
        "df_grandes_areas       = pd.DataFrame(grandes_areas,columns=['Grande Área'])\n",
        "df_grandes_areas_group = df_grandes_areas.groupby('Grande Área')['Grande Área'].count().sort_values()\n",
        "df_grandes_areas_group = 100 * df_grandes_areas_group / df_grandes_areas_group.sum()\n",
        "indexes_grandes_areas  = df_grandes_areas_group.index\n",
        "values_grandes_areas   = df_grandes_areas_group.values\n",
        "\n",
        "labels = df_grandes_areas_group.index\n",
        "plt.pie(df_grandes_areas_group, labels = labels, autopct='%1.1f%%',colors=sns.color_palette('muted'))\n",
        "plt.title('Porcentagem de profissionais por grande área de formação');"
      ],
      "metadata": {
        "id": "HiW8IWxocAqQ"
      },
      "execution_count": null,
      "outputs": []
    },
    {
      "cell_type": "markdown",
      "source": [
        "A maioria dos profissionais de dados se formaram em áreas relacionadas à computação e exatas. No entanto, é possível notar que vários profissionais formados em áreas relacionadas à humanas também têm atuado com dados, chegando a aproximadamente 20% dos respondentes do questionário."
      ],
      "metadata": {
        "id": "uy4G0jqcb86g"
      }
    }
  ]
}